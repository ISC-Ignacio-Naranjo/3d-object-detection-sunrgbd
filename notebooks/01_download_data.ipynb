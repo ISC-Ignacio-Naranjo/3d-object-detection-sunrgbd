{
 "cells": [
  {
   "cell_type": "markdown",
   "id": "a4d24991",
   "metadata": {},
   "source": [
    "# 📥 SUN RGB-D Dataset Downloader\n",
    "This notebook downloads the SUN RGB-D dataset and extracts it to the `data/` folder.\n",
    "\n",
    "> ⚠️ Note: The dataset is large (~16GB). Make sure you have a stable internet connection and enough disk space."
   ]
  },
  {
   "cell_type": "code",
   "execution_count": null,
   "id": "e89c2843",
   "metadata": {},
   "outputs": [],
   "source": [
    "# ✅ Create data directory if not exists\n",
    "import os\n",
    "DATA_DIR = \"data\"\n",
    "os.makedirs(DATA_DIR, exist_ok=True)\n",
    "print(f\"Data directory is ready: {DATA_DIR}\")"
   ]
  },
  {
   "cell_type": "code",
   "execution_count": null,
   "id": "9b6779eb",
   "metadata": {},
   "outputs": [],
   "source": [
    "# 📦 Download dataset using requests (or wget if preferred)\n",
    "import requests\n",
    "from tqdm import tqdm\n",
    "import zipfile\n",
    "\n",
    "def download_file(url, dest_path):\n",
    "    response = requests.get(url, stream=True)\n",
    "    total = int(response.headers.get('content-length', 0))\n",
    "    with open(dest_path, 'wb') as file, tqdm(\n",
    "        desc=dest_path,\n",
    "        total=total,\n",
    "        unit='B',\n",
    "        unit_scale=True,\n",
    "        unit_divisor=1024,\n",
    "    ) as bar:\n",
    "        for data in response.iter_content(chunk_size=1024):\n",
    "            size = file.write(data)\n",
    "            bar.update(size)\n",
    "\n",
    "# Example: SUNRGBD.zip\n",
    "url = \"http://rgbd.cs.princeton.edu/data/SUNRGBD.zip\"\n",
    "output_path = os.path.join(DATA_DIR, \"SUNRGBD.zip\")\n",
    "\n",
    "if not os.path.exists(output_path):\n",
    "    download_file(url, output_path)\n",
    "else:\n",
    "    print(\"Dataset already downloaded.\")"
   ]
  },
  {
   "cell_type": "code",
   "execution_count": null,
   "id": "c39ef47b",
   "metadata": {},
   "outputs": [],
   "source": [
    "# 📂 Unzip the dataset (this may take a while)\n",
    "zip_path = os.path.join(DATA_DIR, \"SUNRGBD.zip\")\n",
    "extract_path = os.path.join(DATA_DIR, \"SUNRGBD\")\n",
    "\n",
    "if not os.path.exists(extract_path):\n",
    "    with zipfile.ZipFile(zip_path, 'r') as zip_ref:\n",
    "        zip_ref.extractall(extract_path)\n",
    "    print(f\"Extracted to: {extract_path}\")\n",
    "else:\n",
    "    print(\"Dataset already extracted.\")"
   ]
  }
 ],
 "metadata": {
  "kernelspec": {
   "display_name": "Python (sunrgbd3d)",
   "language": "python",
   "name": "sunrgbd3d"
  },
  "language_info": {
   "codemirror_mode": {
    "name": "ipython",
    "version": 3
   },
   "file_extension": ".py",
   "mimetype": "text/x-python",
   "name": "python",
   "nbconvert_exporter": "python",
   "pygments_lexer": "ipython3",
   "version": "3.11.13"
  }
 },
 "nbformat": 4,
 "nbformat_minor": 5
}
