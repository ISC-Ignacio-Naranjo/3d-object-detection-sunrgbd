{
 "cells": [
  {
   "cell_type": "code",
   "execution_count": 5,
   "id": "2537a166",
   "metadata": {},
   "outputs": [
    {
     "name": "stdout",
     "output_type": "stream",
     "text": [
      "✅ Loaded 10335 samples\n"
     ]
    }
   ],
   "source": [
    "import os\n",
    "import scipy.io\n",
    "\n",
    "# Load .mat annotations\n",
    "meta_path = os.path.join(\"..\", \"data\", \"SUNRGBDMeta3DBB_v2.mat\")\n",
    "meta = scipy.io.loadmat(meta_path, struct_as_record=False, squeeze_me=True)\n",
    "\n",
    "# List of samples\n",
    "samples = meta[\"SUNRGBDMeta\"]\n",
    "print(\"✅ Loaded\", len(samples), \"samples\")\n"
   ]
  },
  {
   "cell_type": "code",
   "execution_count": 6,
   "id": "7ec15702",
   "metadata": {},
   "outputs": [
    {
     "name": "stdout",
     "output_type": "stream",
     "text": [
      "Available attributes:\n",
      "_fieldnames\n",
      "basis\n",
      "centroid\n",
      "classname\n",
      "coeffs\n",
      "label\n",
      "orientation\n",
      "sequenceName\n"
     ]
    }
   ],
   "source": [
    "# Print available attributes for debug\n",
    "sample = samples[0]\n",
    "box3d = sample.groundtruth3DBB[0] if isinstance(sample.groundtruth3DBB, np.ndarray) else sample.groundtruth3DBB\n",
    "\n",
    "print(\"Available attributes:\")\n",
    "for attr in dir(box3d):\n",
    "    if not attr.startswith(\"__\"):\n",
    "        print(attr)\n"
   ]
  },
  {
   "cell_type": "code",
   "execution_count": 10,
   "id": "8c80116b",
   "metadata": {},
   "outputs": [],
   "source": [
    "import open3d as o3d\n",
    "import numpy as np\n",
    "\n",
    "# Get first sample and first object\n",
    "sample = samples[0]\n",
    "box = sample.groundtruth3DBB[0]\n",
    "\n",
    "# Extraer atributos\n",
    "basis = np.array(box.basis)         # 3x3 rotation matrix\n",
    "centroid = np.array(box.centroid)   # center (x, y, z)\n",
    "coeffs = np.array(box.coeffs)       # half-sizes (l/2, w/2, h/2)\n",
    "\n",
    "# Calcular dimensiones completas\n",
    "extent = coeffs * 2                 # (l, w, h)\n",
    "\n",
    "# Crear caja 3D orientada\n",
    "obb = o3d.geometry.OrientedBoundingBox(center=centroid, R=basis, extent=extent)\n",
    "obb.color = (1, 0, 0)  # rojo\n",
    "\n",
    "# Mostrar\n",
    "o3d.visualization.draw_geometries([obb], window_name=\"Sample 3D Box\")\n"
   ]
  },
  {
   "cell_type": "code",
   "execution_count": 11,
   "id": "cc66d7ec",
   "metadata": {},
   "outputs": [
    {
     "name": "stdout",
     "output_type": "stream",
     "text": [
      "Total boxes in sample: 6\n"
     ]
    }
   ],
   "source": [
    "import open3d as o3d\n",
    "import numpy as np\n",
    "\n",
    "# Get first sample\n",
    "sample = samples[0]\n",
    "boxes = sample.groundtruth3DBB\n",
    "\n",
    "print(f\"Total boxes in sample: {len(boxes)}\")\n",
    "\n",
    "geometries = []\n",
    "\n",
    "for box in boxes:\n",
    "    basis = np.array(box.basis)\n",
    "    centroid = np.array(box.centroid)\n",
    "    coeffs = np.array(box.coeffs)\n",
    "    extent = coeffs * 2\n",
    "\n",
    "    obb = o3d.geometry.OrientedBoundingBox(center=centroid, R=basis, extent=extent)\n",
    "    obb.color = (0, 1, 0)  # green\n",
    "    geometries.append(obb)\n",
    "\n",
    "# Visualize all bounding boxes\n",
    "o3d.visualization.draw_geometries(geometries, window_name=\"All 3D Bounding Boxes in Sample\")\n"
   ]
  },
  {
   "cell_type": "code",
   "execution_count": 12,
   "id": "7267a08b",
   "metadata": {},
   "outputs": [],
   "source": [
    "import open3d as o3d\n",
    "import numpy as np\n",
    "import matplotlib.pyplot as plt\n",
    "import hashlib\n",
    "\n",
    "# Simple hashing function to get consistent RGB values per class\n",
    "def get_color_from_class(classname):\n",
    "    hash_val = int(hashlib.md5(classname.encode()).hexdigest(), 16)\n",
    "    r = ((hash_val >> 16) & 255) / 255.0\n",
    "    g = ((hash_val >> 8) & 255) / 255.0\n",
    "    b = (hash_val & 255) / 255.0\n",
    "    return (r, g, b)\n",
    "\n",
    "# First sample\n",
    "sample = samples[0]\n",
    "boxes = sample.groundtruth3DBB\n",
    "\n",
    "geometries = []\n",
    "\n",
    "for box in boxes:\n",
    "    basis = np.array(box.basis)\n",
    "    centroid = np.array(box.centroid)\n",
    "    coeffs = np.array(box.coeffs)\n",
    "    extent = coeffs * 2\n",
    "    classname = box.classname\n",
    "\n",
    "    obb = o3d.geometry.OrientedBoundingBox(center=centroid, R=basis, extent=extent)\n",
    "    obb.color = get_color_from_class(classname)\n",
    "    geometries.append(obb)\n",
    "\n",
    "# Display all 3D bounding boxes with class-based color\n",
    "o3d.visualization.draw_geometries(geometries, window_name=\"3D Boxes with Class Colors\")\n"
   ]
  }
 ],
 "metadata": {
  "kernelspec": {
   "display_name": "sunrgbd3d",
   "language": "python",
   "name": "python3"
  },
  "language_info": {
   "codemirror_mode": {
    "name": "ipython",
    "version": 3
   },
   "file_extension": ".py",
   "mimetype": "text/x-python",
   "name": "python",
   "nbconvert_exporter": "python",
   "pygments_lexer": "ipython3",
   "version": "3.11.13"
  }
 },
 "nbformat": 4,
 "nbformat_minor": 5
}
